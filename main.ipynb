{
 "cells": [
  {
   "cell_type": "code",
   "execution_count": null,
   "metadata": {},
   "outputs": [],
   "source": [
    "from utils import load_beers, split_data\n",
    "from funk_svd import SVD\n",
    "from sklearn.metrics import mean_squared_error, mean_absolute_error\n",
    "from sklearn.linear_model import BayesianRidge\n",
    "from sklearn.neural_network import MLPRegressor\n",
    "from knn import MultiCriteriaKnnModel"
   ]
  },
  {
   "cell_type": "code",
   "execution_count": null,
   "metadata": {},
   "outputs": [],
   "source": [
    "source = load_beers(\"beer_reviews.csv\")\n",
    "train, val, test = split_data(source)\n",
    "train = train.sort_values(by=\"user_id\")\n",
    "val = val.sort_values(by=\"user_id\")\n",
    "test = test.sort_values(by=\"user_id\")\n",
    "\n",
    "\n",
    "print(train[\"user_id\"].unique().shape, train[\"beer_id\"].unique().shape)\n",
    "print(val[\"user_id\"].unique().shape, val[\"beer_id\"].unique().shape)\n",
    "print(test[\"user_id\"].unique().shape, test[\"beer_id\"].unique().shape)"
   ]
  },
  {
   "cell_type": "code",
   "execution_count": null,
   "metadata": {},
   "outputs": [],
   "source": [
    "train_feat_mats = []\n",
    "for criterion in (\"review_overall\", \"review_aroma\", \"review_appearance\", \"review_palate\", \"review_taste\"):\n",
    "    train_feat_mat = train.pivot_table(\n",
    "        index=\"user_id\",\n",
    "        columns=\"beer_id\",\n",
    "        values=criterion\n",
    "    ).fillna(0).values\n",
    "    train_feat_mats.append(train_feat_mat)\n",
    "    \n",
    "val_feat_mats = []\n",
    "for criterion in (\"review_overall\", \"review_aroma\", \"review_appearance\", \"review_palate\", \"review_taste\"):\n",
    "    val_feat_mat = val.pivot_table(\n",
    "        index=\"user_id\",\n",
    "        columns=\"beer_id\",\n",
    "        values=criterion\n",
    "    ).fillna(0).values\n",
    "    val_feat_mats.append(val_feat_mat)\n",
    "    \n",
    "test_feat_mats = []\n",
    "for criterion in (\"review_overall\", \"review_aroma\", \"review_appearance\", \"review_palate\", \"review_taste\"):\n",
    "    test_feat_mat = test.pivot_table(\n",
    "        index=\"user_id\",\n",
    "        columns=\"beer_id\",\n",
    "        values=criterion\n",
    "    ).fillna(0).values\n",
    "    test_feat_mats.append(test_feat_mat)"
   ]
  },
  {
   "cell_type": "markdown",
   "metadata": {},
   "source": [
    "### Single Rating Funk SVD (overall)"
   ]
  },
  {
   "cell_type": "code",
   "execution_count": null,
   "metadata": {},
   "outputs": [],
   "source": [
    "model = SVD(learning_rate=0.001, regularization=0.005, n_epochs=100, n_factors=15, min_rating=1, max_rating=5)\n",
    "new_col_names = {\"user_id\": \"u_id\", \"beer_id\": \"i_id\", \"review_overall\": \"rating\"}\n",
    "model.fit(train.rename(columns=new_col_names), val.rename(columns=new_col_names), early_stopping=True, shuffle=False)\n",
    "\n",
    "pred = model.predict(test.rename(columns=new_col_names))\n",
    "rmse = mean_squared_error(test[\"review_overall\"], pred) ** 0.5\n",
    "mae = mean_absolute_error(test[\"review_overall\"], pred)\n",
    "print(f\"RMSE: {rmse}\")\n",
    "print(f\"MAE: {mae}\")"
   ]
  },
  {
   "cell_type": "markdown",
   "metadata": {},
   "source": [
    "### Multiple Ratings Aggregation (aroma, appearance, palate, taste)"
   ]
  },
  {
   "cell_type": "code",
   "execution_count": null,
   "metadata": {},
   "outputs": [],
   "source": [
    "partials = []\n",
    "for criterion in (\"review_aroma\", \"review_appearance\", \"review_palate\", \"review_taste\"):\n",
    "    model = SVD(learning_rate=0.001, regularization=0.005, n_epochs=100, n_factors=15, min_rating=1, max_rating=5)\n",
    "    new_col_names = {\"user_id\": \"u_id\", \"beer_id\": \"i_id\", criterion: \"rating\"}\n",
    "    model.fit(train.rename(columns=new_col_names), val.rename(columns=new_col_names), early_stopping=True, shuffle=False)\n",
    "    partials.append(model.predict(test.rename(columns=new_col_names)))"
   ]
  },
  {
   "cell_type": "code",
   "execution_count": null,
   "metadata": {},
   "outputs": [],
   "source": [
    "model = BayesianRidge()\n",
    "model.fit(train[[\"review_aroma\", \"review_appearance\", \"review_palate\", \"review_taste\"]].values, train[\"review_overall\"])\n",
    "\n",
    "pred = model.predict(list(map(list, zip(*partials))))\n",
    "rmse = mean_squared_error(test[\"review_overall\"], pred) ** 0.5\n",
    "mae = mean_absolute_error(test[\"review_overall\"], pred)\n",
    "print(f\"RMSE: {rmse}\")\n",
    "print(f\"MAE: {mae}\")"
   ]
  },
  {
   "cell_type": "code",
   "execution_count": null,
   "metadata": {},
   "outputs": [],
   "source": [
    "model = MLPRegressor(hidden_layer_sizes=(50,), solver=\"sgd\")\n",
    "model.fit(train[[\"review_aroma\", \"review_appearance\", \"review_palate\", \"review_taste\"]].values, train[\"review_overall\"])\n",
    "\n",
    "pred = model.predict(list(map(list, zip(*partials))))\n",
    "rmse = mean_squared_error(test[\"review_overall\"], pred) ** 0.5\n",
    "mae = mean_absolute_error(test[\"review_overall\"], pred)\n",
    "print(f\"RMSE: {rmse}\")\n",
    "print(f\"MAE: {mae}\")"
   ]
  },
  {
   "cell_type": "markdown",
   "metadata": {},
   "source": [
    "### Single Rating KNN (overall)"
   ]
  },
  {
   "cell_type": "code",
   "execution_count": null,
   "metadata": {},
   "outputs": [],
   "source": [
    "model = MultiCriteriaKnnModel()\n",
    "model.fit([train_feat_mats[0], train_feat_mats[0]])\n",
    "\n",
    "rmse, mae = model.test(test_feat_mats[0], 200)\n",
    "print(f\"RMSE: {rmse}\")\n",
    "print(f\"MAE: {mae}\")"
   ]
  },
  {
   "cell_type": "markdown",
   "metadata": {},
   "source": [
    "### Multiple Ratings KNN (aroma, appearance, palate, taste)"
   ]
  },
  {
   "cell_type": "code",
   "execution_count": null,
   "metadata": {},
   "outputs": [],
   "source": [
    "model = MultiCriteriaKnnModel()\n",
    "model.fit(train_feat_mats)\n",
    "\n",
    "for sim_type in MultiCriteriaKnnModel.ALLOWED_SIM_TYPES:\n",
    "    model.sim_type = sim_type\n",
    "    rmse, mae = model.test(test_feat_mats[0], 200)\n",
    "    print(f\"RMSE: {rmse}\")\n",
    "    print(f\"MAE: {mae}\")"
   ]
  }
 ],
 "metadata": {
  "kernelspec": {
   "display_name": "Python 3",
   "language": "python",
   "name": "python3"
  },
  "language_info": {
   "codemirror_mode": {
    "name": "ipython",
    "version": 3
   },
   "file_extension": ".py",
   "mimetype": "text/x-python",
   "name": "python",
   "nbconvert_exporter": "python",
   "pygments_lexer": "ipython3",
   "version": "3.7.0"
  }
 },
 "nbformat": 4,
 "nbformat_minor": 2
}
